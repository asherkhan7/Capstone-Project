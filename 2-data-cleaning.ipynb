{
 "cells": [
  {
   "cell_type": "code",
   "execution_count": 2,
   "metadata": {},
   "outputs": [],
   "source": [
    "import pandas as pd\n",
    "import numpy as np\n",
    "import seaborn as sns\n",
    "import matplotlib.pyplot as plt\n",
    "import os\n",
    "from subprocess import check_output\n",
    "from wordcloud import WordCloud, STOPWORDS\n",
    "import string\n",
    "import re \n",
    "import nltk\n",
    "from nltk.corpus import stopwords\n",
    "from nltk import pos_tag\n",
    "from nltk.stem.wordnet import WordNetLemmatizer \n",
    "from nltk.tokenize import word_tokenize\n",
    "from nltk.tokenize import sent_tokenize\n",
    "from nltk.tokenize import TweetTokenizer"
   ]
  },
  {
   "cell_type": "code",
   "execution_count": 3,
   "metadata": {},
   "outputs": [
    {
     "data": {
      "text/html": [
       "<div>\n",
       "<style scoped>\n",
       "    .dataframe tbody tr th:only-of-type {\n",
       "        vertical-align: middle;\n",
       "    }\n",
       "\n",
       "    .dataframe tbody tr th {\n",
       "        vertical-align: top;\n",
       "    }\n",
       "\n",
       "    .dataframe thead th {\n",
       "        text-align: right;\n",
       "    }\n",
       "</style>\n",
       "<table border=\"1\" class=\"dataframe\">\n",
       "  <thead>\n",
       "    <tr style=\"text-align: right;\">\n",
       "      <th></th>\n",
       "      <th>video_id</th>\n",
       "      <th>trending_date</th>\n",
       "      <th>title</th>\n",
       "      <th>channel_title</th>\n",
       "      <th>category_id</th>\n",
       "      <th>publish_time</th>\n",
       "      <th>tags</th>\n",
       "      <th>views</th>\n",
       "      <th>likes</th>\n",
       "      <th>dislikes</th>\n",
       "      <th>comment_count</th>\n",
       "      <th>thumbnail_link</th>\n",
       "      <th>comments_disabled</th>\n",
       "      <th>ratings_disabled</th>\n",
       "      <th>video_error_or_removed</th>\n",
       "      <th>description</th>\n",
       "    </tr>\n",
       "  </thead>\n",
       "  <tbody>\n",
       "    <tr>\n",
       "      <th>0</th>\n",
       "      <td>2kyS6SvSYSE</td>\n",
       "      <td>17.14.11</td>\n",
       "      <td>WE WANT TO TALK ABOUT OUR MARRIAGE</td>\n",
       "      <td>CaseyNeistat</td>\n",
       "      <td>22</td>\n",
       "      <td>2017-11-13T17:13:01.000Z</td>\n",
       "      <td>SHANtell martin</td>\n",
       "      <td>748374</td>\n",
       "      <td>57527</td>\n",
       "      <td>2966</td>\n",
       "      <td>15954</td>\n",
       "      <td>https://i.ytimg.com/vi/2kyS6SvSYSE/default.jpg</td>\n",
       "      <td>False</td>\n",
       "      <td>False</td>\n",
       "      <td>False</td>\n",
       "      <td>SHANTELL'S CHANNEL - https://www.youtube.com/s...</td>\n",
       "    </tr>\n",
       "    <tr>\n",
       "      <th>1</th>\n",
       "      <td>1ZAPwfrtAFY</td>\n",
       "      <td>17.14.11</td>\n",
       "      <td>The Trump Presidency: Last Week Tonight with J...</td>\n",
       "      <td>LastWeekTonight</td>\n",
       "      <td>24</td>\n",
       "      <td>2017-11-13T07:30:00.000Z</td>\n",
       "      <td>last week tonight trump presidency|\"last week ...</td>\n",
       "      <td>2418783</td>\n",
       "      <td>97185</td>\n",
       "      <td>6146</td>\n",
       "      <td>12703</td>\n",
       "      <td>https://i.ytimg.com/vi/1ZAPwfrtAFY/default.jpg</td>\n",
       "      <td>False</td>\n",
       "      <td>False</td>\n",
       "      <td>False</td>\n",
       "      <td>One year after the presidential election, John...</td>\n",
       "    </tr>\n",
       "    <tr>\n",
       "      <th>2</th>\n",
       "      <td>5qpjK5DgCt4</td>\n",
       "      <td>17.14.11</td>\n",
       "      <td>Racist Superman | Rudy Mancuso, King Bach &amp; Le...</td>\n",
       "      <td>Rudy Mancuso</td>\n",
       "      <td>23</td>\n",
       "      <td>2017-11-12T19:05:24.000Z</td>\n",
       "      <td>racist superman|\"rudy\"|\"mancuso\"|\"king\"|\"bach\"...</td>\n",
       "      <td>3191434</td>\n",
       "      <td>146033</td>\n",
       "      <td>5339</td>\n",
       "      <td>8181</td>\n",
       "      <td>https://i.ytimg.com/vi/5qpjK5DgCt4/default.jpg</td>\n",
       "      <td>False</td>\n",
       "      <td>False</td>\n",
       "      <td>False</td>\n",
       "      <td>WATCH MY PREVIOUS VIDEO ▶ \\n\\nSUBSCRIBE ► http...</td>\n",
       "    </tr>\n",
       "    <tr>\n",
       "      <th>3</th>\n",
       "      <td>puqaWrEC7tY</td>\n",
       "      <td>17.14.11</td>\n",
       "      <td>Nickelback Lyrics: Real or Fake?</td>\n",
       "      <td>Good Mythical Morning</td>\n",
       "      <td>24</td>\n",
       "      <td>2017-11-13T11:00:04.000Z</td>\n",
       "      <td>rhett and link|\"gmm\"|\"good mythical morning\"|\"...</td>\n",
       "      <td>343168</td>\n",
       "      <td>10172</td>\n",
       "      <td>666</td>\n",
       "      <td>2146</td>\n",
       "      <td>https://i.ytimg.com/vi/puqaWrEC7tY/default.jpg</td>\n",
       "      <td>False</td>\n",
       "      <td>False</td>\n",
       "      <td>False</td>\n",
       "      <td>Today we find out if Link is a Nickelback amat...</td>\n",
       "    </tr>\n",
       "    <tr>\n",
       "      <th>4</th>\n",
       "      <td>d380meD0W0M</td>\n",
       "      <td>17.14.11</td>\n",
       "      <td>I Dare You: GOING BALD!?</td>\n",
       "      <td>nigahiga</td>\n",
       "      <td>24</td>\n",
       "      <td>2017-11-12T18:01:41.000Z</td>\n",
       "      <td>ryan|\"higa\"|\"higatv\"|\"nigahiga\"|\"i dare you\"|\"...</td>\n",
       "      <td>2095731</td>\n",
       "      <td>132235</td>\n",
       "      <td>1989</td>\n",
       "      <td>17518</td>\n",
       "      <td>https://i.ytimg.com/vi/d380meD0W0M/default.jpg</td>\n",
       "      <td>False</td>\n",
       "      <td>False</td>\n",
       "      <td>False</td>\n",
       "      <td>I know it's been a while since we did this sho...</td>\n",
       "    </tr>\n",
       "    <tr>\n",
       "      <th>...</th>\n",
       "      <td>...</td>\n",
       "      <td>...</td>\n",
       "      <td>...</td>\n",
       "      <td>...</td>\n",
       "      <td>...</td>\n",
       "      <td>...</td>\n",
       "      <td>...</td>\n",
       "      <td>...</td>\n",
       "      <td>...</td>\n",
       "      <td>...</td>\n",
       "      <td>...</td>\n",
       "      <td>...</td>\n",
       "      <td>...</td>\n",
       "      <td>...</td>\n",
       "      <td>...</td>\n",
       "      <td>...</td>\n",
       "    </tr>\n",
       "    <tr>\n",
       "      <th>30203</th>\n",
       "      <td>9iM7W1Dvl6Q</td>\n",
       "      <td>18.13.06</td>\n",
       "      <td>GLOW: Season 2 | Main Trailer [HD] | Netflix</td>\n",
       "      <td>Netflix</td>\n",
       "      <td>24</td>\n",
       "      <td>2018-06-11T14:30:11.000Z</td>\n",
       "      <td>Netflix|\"Trailer\"|\"movies\"|\"streaming\"|\"movies...</td>\n",
       "      <td>126958</td>\n",
       "      <td>2690</td>\n",
       "      <td>49</td>\n",
       "      <td>185</td>\n",
       "      <td>https://i.ytimg.com/vi/9iM7W1Dvl6Q/default.jpg</td>\n",
       "      <td>False</td>\n",
       "      <td>False</td>\n",
       "      <td>False</td>\n",
       "      <td>GLOW big or GLOW home. The girls are back in t...</td>\n",
       "    </tr>\n",
       "    <tr>\n",
       "      <th>30204</th>\n",
       "      <td>g4txv3A9ICQ</td>\n",
       "      <td>18.14.06</td>\n",
       "      <td>5 Seconds of Summer - No Roots (Alice Merton C...</td>\n",
       "      <td>BBCRadio1VEVO</td>\n",
       "      <td>10</td>\n",
       "      <td>2018-06-12T15:50:25.000Z</td>\n",
       "      <td>5SOS|\"5 Seconds of Summer\"|\"No Roots\"|\"Cover\"|...</td>\n",
       "      <td>92541</td>\n",
       "      <td>12867</td>\n",
       "      <td>39</td>\n",
       "      <td>986</td>\n",
       "      <td>https://i.ytimg.com/vi/g4txv3A9ICQ/default.jpg</td>\n",
       "      <td>False</td>\n",
       "      <td>False</td>\n",
       "      <td>False</td>\n",
       "      <td>5SOS cover Alice Merton's No Roots in the BBC ...</td>\n",
       "    </tr>\n",
       "    <tr>\n",
       "      <th>30205</th>\n",
       "      <td>YQJmvXamKYg</td>\n",
       "      <td>18.14.06</td>\n",
       "      <td>Conway: People are bending to the will of Pres...</td>\n",
       "      <td>Fox News</td>\n",
       "      <td>25</td>\n",
       "      <td>2018-06-13T12:56:49.000Z</td>\n",
       "      <td>Fox News Channel|\"FNC\"|\"Fox News\"|\"News\"|\"Late...</td>\n",
       "      <td>99048</td>\n",
       "      <td>2231</td>\n",
       "      <td>151</td>\n",
       "      <td>1294</td>\n",
       "      <td>https://i.ytimg.com/vi/YQJmvXamKYg/default.jpg</td>\n",
       "      <td>False</td>\n",
       "      <td>False</td>\n",
       "      <td>False</td>\n",
       "      <td>The senior counselor to the president talks di...</td>\n",
       "    </tr>\n",
       "    <tr>\n",
       "      <th>30206</th>\n",
       "      <td>BOhylL90UVQ</td>\n",
       "      <td>18.14.06</td>\n",
       "      <td>The Chainsmokers - Somebody ft. Drew Love (Ror...</td>\n",
       "      <td>The Chainsmokers</td>\n",
       "      <td>10</td>\n",
       "      <td>2018-06-09T16:00:00.000Z</td>\n",
       "      <td>The Chainsmokers Somebody|\"Chainsmokers Somebo...</td>\n",
       "      <td>402345</td>\n",
       "      <td>32126</td>\n",
       "      <td>427</td>\n",
       "      <td>1895</td>\n",
       "      <td>https://i.ytimg.com/vi/BOhylL90UVQ/default.jpg</td>\n",
       "      <td>False</td>\n",
       "      <td>False</td>\n",
       "      <td>False</td>\n",
       "      <td>The Chainsmokers - Somebody ft. Drew Love (A R...</td>\n",
       "    </tr>\n",
       "    <tr>\n",
       "      <th>30207</th>\n",
       "      <td>14G7Qw5DC9M</td>\n",
       "      <td>18.14.06</td>\n",
       "      <td>17 FUN LIFE HACKS YOU WILL WANT TO TRY YOURSELF</td>\n",
       "      <td>5-Minute Crafts</td>\n",
       "      <td>26</td>\n",
       "      <td>2018-05-18T07:30:00.000Z</td>\n",
       "      <td>5-Minute Crafts|\"DIY\"|\"Do it yourself\"|\"crafts...</td>\n",
       "      <td>772049</td>\n",
       "      <td>7135</td>\n",
       "      <td>659</td>\n",
       "      <td>508</td>\n",
       "      <td>https://i.ytimg.com/vi/14G7Qw5DC9M/default.jpg</td>\n",
       "      <td>False</td>\n",
       "      <td>False</td>\n",
       "      <td>False</td>\n",
       "      <td>So here are some incredibly fun life hacks you...</td>\n",
       "    </tr>\n",
       "  </tbody>\n",
       "</table>\n",
       "<p>30208 rows × 16 columns</p>\n",
       "</div>"
      ],
      "text/plain": [
       "          video_id trending_date  \\\n",
       "0      2kyS6SvSYSE      17.14.11   \n",
       "1      1ZAPwfrtAFY      17.14.11   \n",
       "2      5qpjK5DgCt4      17.14.11   \n",
       "3      puqaWrEC7tY      17.14.11   \n",
       "4      d380meD0W0M      17.14.11   \n",
       "...            ...           ...   \n",
       "30203  9iM7W1Dvl6Q      18.13.06   \n",
       "30204  g4txv3A9ICQ      18.14.06   \n",
       "30205  YQJmvXamKYg      18.14.06   \n",
       "30206  BOhylL90UVQ      18.14.06   \n",
       "30207  14G7Qw5DC9M      18.14.06   \n",
       "\n",
       "                                                   title  \\\n",
       "0                     WE WANT TO TALK ABOUT OUR MARRIAGE   \n",
       "1      The Trump Presidency: Last Week Tonight with J...   \n",
       "2      Racist Superman | Rudy Mancuso, King Bach & Le...   \n",
       "3                       Nickelback Lyrics: Real or Fake?   \n",
       "4                               I Dare You: GOING BALD!?   \n",
       "...                                                  ...   \n",
       "30203       GLOW: Season 2 | Main Trailer [HD] | Netflix   \n",
       "30204  5 Seconds of Summer - No Roots (Alice Merton C...   \n",
       "30205  Conway: People are bending to the will of Pres...   \n",
       "30206  The Chainsmokers - Somebody ft. Drew Love (Ror...   \n",
       "30207    17 FUN LIFE HACKS YOU WILL WANT TO TRY YOURSELF   \n",
       "\n",
       "               channel_title  category_id              publish_time  \\\n",
       "0               CaseyNeistat           22  2017-11-13T17:13:01.000Z   \n",
       "1            LastWeekTonight           24  2017-11-13T07:30:00.000Z   \n",
       "2               Rudy Mancuso           23  2017-11-12T19:05:24.000Z   \n",
       "3      Good Mythical Morning           24  2017-11-13T11:00:04.000Z   \n",
       "4                   nigahiga           24  2017-11-12T18:01:41.000Z   \n",
       "...                      ...          ...                       ...   \n",
       "30203                Netflix           24  2018-06-11T14:30:11.000Z   \n",
       "30204          BBCRadio1VEVO           10  2018-06-12T15:50:25.000Z   \n",
       "30205               Fox News           25  2018-06-13T12:56:49.000Z   \n",
       "30206       The Chainsmokers           10  2018-06-09T16:00:00.000Z   \n",
       "30207        5-Minute Crafts           26  2018-05-18T07:30:00.000Z   \n",
       "\n",
       "                                                    tags    views   likes  \\\n",
       "0                                        SHANtell martin   748374   57527   \n",
       "1      last week tonight trump presidency|\"last week ...  2418783   97185   \n",
       "2      racist superman|\"rudy\"|\"mancuso\"|\"king\"|\"bach\"...  3191434  146033   \n",
       "3      rhett and link|\"gmm\"|\"good mythical morning\"|\"...   343168   10172   \n",
       "4      ryan|\"higa\"|\"higatv\"|\"nigahiga\"|\"i dare you\"|\"...  2095731  132235   \n",
       "...                                                  ...      ...     ...   \n",
       "30203  Netflix|\"Trailer\"|\"movies\"|\"streaming\"|\"movies...   126958    2690   \n",
       "30204  5SOS|\"5 Seconds of Summer\"|\"No Roots\"|\"Cover\"|...    92541   12867   \n",
       "30205  Fox News Channel|\"FNC\"|\"Fox News\"|\"News\"|\"Late...    99048    2231   \n",
       "30206  The Chainsmokers Somebody|\"Chainsmokers Somebo...   402345   32126   \n",
       "30207  5-Minute Crafts|\"DIY\"|\"Do it yourself\"|\"crafts...   772049    7135   \n",
       "\n",
       "       dislikes  comment_count  \\\n",
       "0          2966          15954   \n",
       "1          6146          12703   \n",
       "2          5339           8181   \n",
       "3           666           2146   \n",
       "4          1989          17518   \n",
       "...         ...            ...   \n",
       "30203        49            185   \n",
       "30204        39            986   \n",
       "30205       151           1294   \n",
       "30206       427           1895   \n",
       "30207       659            508   \n",
       "\n",
       "                                       thumbnail_link  comments_disabled  \\\n",
       "0      https://i.ytimg.com/vi/2kyS6SvSYSE/default.jpg              False   \n",
       "1      https://i.ytimg.com/vi/1ZAPwfrtAFY/default.jpg              False   \n",
       "2      https://i.ytimg.com/vi/5qpjK5DgCt4/default.jpg              False   \n",
       "3      https://i.ytimg.com/vi/puqaWrEC7tY/default.jpg              False   \n",
       "4      https://i.ytimg.com/vi/d380meD0W0M/default.jpg              False   \n",
       "...                                               ...                ...   \n",
       "30203  https://i.ytimg.com/vi/9iM7W1Dvl6Q/default.jpg              False   \n",
       "30204  https://i.ytimg.com/vi/g4txv3A9ICQ/default.jpg              False   \n",
       "30205  https://i.ytimg.com/vi/YQJmvXamKYg/default.jpg              False   \n",
       "30206  https://i.ytimg.com/vi/BOhylL90UVQ/default.jpg              False   \n",
       "30207  https://i.ytimg.com/vi/14G7Qw5DC9M/default.jpg              False   \n",
       "\n",
       "       ratings_disabled  video_error_or_removed  \\\n",
       "0                 False                   False   \n",
       "1                 False                   False   \n",
       "2                 False                   False   \n",
       "3                 False                   False   \n",
       "4                 False                   False   \n",
       "...                 ...                     ...   \n",
       "30203             False                   False   \n",
       "30204             False                   False   \n",
       "30205             False                   False   \n",
       "30206             False                   False   \n",
       "30207             False                   False   \n",
       "\n",
       "                                             description  \n",
       "0      SHANTELL'S CHANNEL - https://www.youtube.com/s...  \n",
       "1      One year after the presidential election, John...  \n",
       "2      WATCH MY PREVIOUS VIDEO ▶ \\n\\nSUBSCRIBE ► http...  \n",
       "3      Today we find out if Link is a Nickelback amat...  \n",
       "4      I know it's been a while since we did this sho...  \n",
       "...                                                  ...  \n",
       "30203  GLOW big or GLOW home. The girls are back in t...  \n",
       "30204  5SOS cover Alice Merton's No Roots in the BBC ...  \n",
       "30205  The senior counselor to the president talks di...  \n",
       "30206  The Chainsmokers - Somebody ft. Drew Love (A R...  \n",
       "30207  So here are some incredibly fun life hacks you...  \n",
       "\n",
       "[30208 rows x 16 columns]"
      ]
     },
     "execution_count": 3,
     "metadata": {},
     "output_type": "execute_result"
    }
   ],
   "source": [
    "df = pd.read_csv('Data/complete_df.csv')\n",
    "df"
   ]
  },
  {
   "cell_type": "code",
   "execution_count": 4,
   "metadata": {},
   "outputs": [
    {
     "data": {
      "text/plain": [
       "'racist superman|\"rudy\"|\"mancuso\"|\"king\"|\"bach\"|\"racist\"|\"superman\"|\"love\"|\"rudy mancuso poo bear black white official music video\"|\"iphone x by pineapple\"|\"lelepons\"|\"hannahstocking\"|\"rudymancuso\"|\"inanna\"|\"anwar\"|\"sarkis\"|\"shots\"|\"shotsstudios\"|\"alesso\"|\"anitta\"|\"brazil\"|\"Getting My Driver\\'s License | Lele Pons\"'"
      ]
     },
     "execution_count": 4,
     "metadata": {},
     "output_type": "execute_result"
    }
   ],
   "source": [
    "# Examining string for tags\n",
    "df.tags[2]"
   ]
  },
  {
   "cell_type": "code",
   "execution_count": 5,
   "metadata": {},
   "outputs": [
    {
     "name": "stdout",
     "output_type": "stream",
     "text": [
      "<class 'pandas.core.frame.DataFrame'>\n",
      "RangeIndex: 30208 entries, 0 to 30207\n",
      "Data columns (total 16 columns):\n",
      "video_id                  30208 non-null object\n",
      "trending_date             30208 non-null object\n",
      "title                     30208 non-null object\n",
      "channel_title             30208 non-null object\n",
      "category_id               30208 non-null int64\n",
      "publish_time              30208 non-null object\n",
      "tags                      30208 non-null object\n",
      "views                     30208 non-null int64\n",
      "likes                     30208 non-null int64\n",
      "dislikes                  30208 non-null int64\n",
      "comment_count             30208 non-null int64\n",
      "thumbnail_link            30208 non-null object\n",
      "comments_disabled         30208 non-null bool\n",
      "ratings_disabled          30208 non-null bool\n",
      "video_error_or_removed    30208 non-null bool\n",
      "description               29129 non-null object\n",
      "dtypes: bool(3), int64(5), object(8)\n",
      "memory usage: 3.1+ MB\n"
     ]
    }
   ],
   "source": [
    "df.info()"
   ]
  },
  {
   "cell_type": "code",
   "execution_count": 6,
   "metadata": {},
   "outputs": [
    {
     "data": {
      "text/plain": [
       "video_id                     0\n",
       "trending_date                0\n",
       "title                        0\n",
       "channel_title                0\n",
       "category_id                  0\n",
       "publish_time                 0\n",
       "tags                         0\n",
       "views                        0\n",
       "likes                        0\n",
       "dislikes                     0\n",
       "comment_count                0\n",
       "thumbnail_link               0\n",
       "comments_disabled            0\n",
       "ratings_disabled             0\n",
       "video_error_or_removed       0\n",
       "description               1079\n",
       "dtype: int64"
      ]
     },
     "execution_count": 6,
     "metadata": {},
     "output_type": "execute_result"
    }
   ],
   "source": [
    "# Looking for NAN values\n",
    "df.isna().sum()"
   ]
  },
  {
   "cell_type": "code",
   "execution_count": 7,
   "metadata": {},
   "outputs": [
    {
     "data": {
      "text/plain": [
       "(30208, 16)"
      ]
     },
     "execution_count": 7,
     "metadata": {},
     "output_type": "execute_result"
    }
   ],
   "source": [
    "df.shape"
   ]
  },
  {
   "cell_type": "code",
   "execution_count": 8,
   "metadata": {},
   "outputs": [
    {
     "data": {
      "text/plain": [
       "1942"
      ]
     },
     "execution_count": 8,
     "metadata": {},
     "output_type": "execute_result"
    }
   ],
   "source": [
    "# Number of rows with no tags\n",
    "len(df[df['tags'] == '[none]'])"
   ]
  },
  {
   "cell_type": "code",
   "execution_count": 9,
   "metadata": {},
   "outputs": [],
   "source": [
    "# Deleting rows with no tags\n",
    "df = df[df['tags'] != '[none]']"
   ]
  },
  {
   "cell_type": "code",
   "execution_count": 10,
   "metadata": {},
   "outputs": [
    {
     "data": {
      "text/plain": [
       "(28266, 16)"
      ]
     },
     "execution_count": 10,
     "metadata": {},
     "output_type": "execute_result"
    }
   ],
   "source": [
    "df.shape"
   ]
  },
  {
   "cell_type": "code",
   "execution_count": 11,
   "metadata": {},
   "outputs": [
    {
     "name": "stderr",
     "output_type": "stream",
     "text": [
      "C:\\Users\\khan_\\anaconda3\\envs\\learn-env\\lib\\site-packages\\ipykernel_launcher.py:2: SettingWithCopyWarning: \n",
      "A value is trying to be set on a copy of a slice from a DataFrame.\n",
      "Try using .loc[row_indexer,col_indexer] = value instead\n",
      "\n",
      "See the caveats in the documentation: http://pandas.pydata.org/pandas-docs/stable/user_guide/indexing.html#returning-a-view-versus-a-copy\n",
      "  \n",
      "C:\\Users\\khan_\\anaconda3\\envs\\learn-env\\lib\\site-packages\\ipykernel_launcher.py:3: SettingWithCopyWarning: \n",
      "A value is trying to be set on a copy of a slice from a DataFrame.\n",
      "Try using .loc[row_indexer,col_indexer] = value instead\n",
      "\n",
      "See the caveats in the documentation: http://pandas.pydata.org/pandas-docs/stable/user_guide/indexing.html#returning-a-view-versus-a-copy\n",
      "  This is separate from the ipykernel package so we can avoid doing imports until\n",
      "C:\\Users\\khan_\\anaconda3\\envs\\learn-env\\lib\\site-packages\\ipykernel_launcher.py:4: SettingWithCopyWarning: \n",
      "A value is trying to be set on a copy of a slice from a DataFrame.\n",
      "Try using .loc[row_indexer,col_indexer] = value instead\n",
      "\n",
      "See the caveats in the documentation: http://pandas.pydata.org/pandas-docs/stable/user_guide/indexing.html#returning-a-view-versus-a-copy\n",
      "  after removing the cwd from sys.path.\n"
     ]
    },
    {
     "data": {
      "text/plain": [
       "0                                          SHANtell martin\n",
       "1        last week tonight trump presidency. last week ...\n",
       "2        racist superman. rudy. mancuso. king. bach. ra...\n",
       "3        rhett and link. gmm. good mythical morning. rh...\n",
       "4        ryan. higa. higatv. nigahiga. i dare you. idy....\n",
       "                               ...                        \n",
       "30203    Netflix. Trailer. movies. streaming. movies on...\n",
       "30204    5SOS. Seconds of Summer. No Roots. Cover. BBC....\n",
       "30205    Fox News Channel. FNC. Fox News. News. Latest ...\n",
       "30206    The Chainsmokers Somebody. Chainsmokers Somebo...\n",
       "30207    5-Minute Crafts. DIY. Do it yourself. crafts. ...\n",
       "Name: tags, Length: 28266, dtype: object"
      ]
     },
     "execution_count": 11,
     "metadata": {},
     "output_type": "execute_result"
    }
   ],
   "source": [
    "# Cleaning string for all tags in dataset\n",
    "df['tags'] = df['tags'].str.replace(r'|', '')\n",
    "df['tags'] = df['tags'].str.replace(r'\"', '. ')\n",
    "df['tags'] = df['tags'].str.replace(r' . ', ' ')\n",
    "df['tags']"
   ]
  },
  {
   "cell_type": "code",
   "execution_count": 12,
   "metadata": {},
   "outputs": [
    {
     "name": "stderr",
     "output_type": "stream",
     "text": [
      "C:\\Users\\khan_\\anaconda3\\envs\\learn-env\\lib\\site-packages\\pandas\\core\\frame.py:4117: SettingWithCopyWarning: \n",
      "A value is trying to be set on a copy of a slice from a DataFrame\n",
      "\n",
      "See the caveats in the documentation: http://pandas.pydata.org/pandas-docs/stable/user_guide/indexing.html#returning-a-view-versus-a-copy\n",
      "  errors=errors,\n"
     ]
    }
   ],
   "source": [
    "# Dropping unwanted columns\n",
    "df.drop(columns=['publish_time', 'thumbnail_link', 'comments_disabled', 'ratings_disabled',\n",
    "                 'video_error_or_removed', 'description'], inplace=True)"
   ]
  },
  {
   "cell_type": "code",
   "execution_count": 13,
   "metadata": {},
   "outputs": [
    {
     "data": {
      "text/html": [
       "<div>\n",
       "<style scoped>\n",
       "    .dataframe tbody tr th:only-of-type {\n",
       "        vertical-align: middle;\n",
       "    }\n",
       "\n",
       "    .dataframe tbody tr th {\n",
       "        vertical-align: top;\n",
       "    }\n",
       "\n",
       "    .dataframe thead th {\n",
       "        text-align: right;\n",
       "    }\n",
       "</style>\n",
       "<table border=\"1\" class=\"dataframe\">\n",
       "  <thead>\n",
       "    <tr style=\"text-align: right;\">\n",
       "      <th></th>\n",
       "      <th>category_id</th>\n",
       "      <th>views</th>\n",
       "      <th>likes</th>\n",
       "      <th>dislikes</th>\n",
       "      <th>comment_count</th>\n",
       "    </tr>\n",
       "  </thead>\n",
       "  <tbody>\n",
       "    <tr>\n",
       "      <th>count</th>\n",
       "      <td>28266.000000</td>\n",
       "      <td>2.826600e+04</td>\n",
       "      <td>2.826600e+04</td>\n",
       "      <td>28266.000000</td>\n",
       "      <td>28266.000000</td>\n",
       "    </tr>\n",
       "    <tr>\n",
       "      <th>mean</th>\n",
       "      <td>20.982346</td>\n",
       "      <td>5.162653e+05</td>\n",
       "      <td>1.961761e+04</td>\n",
       "      <td>820.876424</td>\n",
       "      <td>2674.072419</td>\n",
       "    </tr>\n",
       "    <tr>\n",
       "      <th>std</th>\n",
       "      <td>6.720821</td>\n",
       "      <td>1.345758e+06</td>\n",
       "      <td>6.621552e+04</td>\n",
       "      <td>6499.775735</td>\n",
       "      <td>11510.251371</td>\n",
       "    </tr>\n",
       "    <tr>\n",
       "      <th>min</th>\n",
       "      <td>1.000000</td>\n",
       "      <td>5.490000e+02</td>\n",
       "      <td>0.000000e+00</td>\n",
       "      <td>0.000000</td>\n",
       "      <td>0.000000</td>\n",
       "    </tr>\n",
       "    <tr>\n",
       "      <th>25%</th>\n",
       "      <td>20.000000</td>\n",
       "      <td>8.855775e+04</td>\n",
       "      <td>1.456250e+03</td>\n",
       "      <td>63.000000</td>\n",
       "      <td>261.000000</td>\n",
       "    </tr>\n",
       "    <tr>\n",
       "      <th>50%</th>\n",
       "      <td>24.000000</td>\n",
       "      <td>2.152155e+05</td>\n",
       "      <td>4.907500e+03</td>\n",
       "      <td>178.000000</td>\n",
       "      <td>810.000000</td>\n",
       "    </tr>\n",
       "    <tr>\n",
       "      <th>75%</th>\n",
       "      <td>24.000000</td>\n",
       "      <td>4.960018e+05</td>\n",
       "      <td>1.542000e+04</td>\n",
       "      <td>494.000000</td>\n",
       "      <td>2110.000000</td>\n",
       "    </tr>\n",
       "    <tr>\n",
       "      <th>max</th>\n",
       "      <td>43.000000</td>\n",
       "      <td>4.843165e+07</td>\n",
       "      <td>3.880071e+06</td>\n",
       "      <td>629120.000000</td>\n",
       "      <td>733373.000000</td>\n",
       "    </tr>\n",
       "  </tbody>\n",
       "</table>\n",
       "</div>"
      ],
      "text/plain": [
       "        category_id         views         likes       dislikes  comment_count\n",
       "count  28266.000000  2.826600e+04  2.826600e+04   28266.000000   28266.000000\n",
       "mean      20.982346  5.162653e+05  1.961761e+04     820.876424    2674.072419\n",
       "std        6.720821  1.345758e+06  6.621552e+04    6499.775735   11510.251371\n",
       "min        1.000000  5.490000e+02  0.000000e+00       0.000000       0.000000\n",
       "25%       20.000000  8.855775e+04  1.456250e+03      63.000000     261.000000\n",
       "50%       24.000000  2.152155e+05  4.907500e+03     178.000000     810.000000\n",
       "75%       24.000000  4.960018e+05  1.542000e+04     494.000000    2110.000000\n",
       "max       43.000000  4.843165e+07  3.880071e+06  629120.000000  733373.000000"
      ]
     },
     "execution_count": 13,
     "metadata": {},
     "output_type": "execute_result"
    }
   ],
   "source": [
    "df.describe()"
   ]
  },
  {
   "cell_type": "code",
   "execution_count": 33,
   "metadata": {},
   "outputs": [
    {
     "data": {
      "text/plain": [
       "Int64Index([   45,    50,    52,    55,    77,    78,    86,   100,   112,\n",
       "              113,\n",
       "            ...\n",
       "            30092, 30117, 30120, 30128, 30131, 30140, 30177, 30186, 30190,\n",
       "            30197],\n",
       "           dtype='int64', length=1937)"
      ]
     },
     "execution_count": 33,
     "metadata": {},
     "output_type": "execute_result"
    }
   ],
   "source": [
    "to_drop = df[df['views'] > 1000000]\n",
    "to_drop_index = to_drop.index\n",
    "to_drop_index"
   ]
  },
  {
   "cell_type": "code",
   "execution_count": 40,
   "metadata": {},
   "outputs": [
    {
     "data": {
      "text/html": [
       "<div>\n",
       "<style scoped>\n",
       "    .dataframe tbody tr th:only-of-type {\n",
       "        vertical-align: middle;\n",
       "    }\n",
       "\n",
       "    .dataframe tbody tr th {\n",
       "        vertical-align: top;\n",
       "    }\n",
       "\n",
       "    .dataframe thead th {\n",
       "        text-align: right;\n",
       "    }\n",
       "</style>\n",
       "<table border=\"1\" class=\"dataframe\">\n",
       "  <thead>\n",
       "    <tr style=\"text-align: right;\">\n",
       "      <th></th>\n",
       "      <th>video_id</th>\n",
       "      <th>trending_date</th>\n",
       "      <th>title</th>\n",
       "      <th>channel_title</th>\n",
       "      <th>category_id</th>\n",
       "      <th>tags</th>\n",
       "      <th>views</th>\n",
       "      <th>likes</th>\n",
       "      <th>dislikes</th>\n",
       "      <th>comment_count</th>\n",
       "    </tr>\n",
       "  </thead>\n",
       "  <tbody>\n",
       "  </tbody>\n",
       "</table>\n",
       "</div>"
      ],
      "text/plain": [
       "Empty DataFrame\n",
       "Columns: [video_id, trending_date, title, channel_title, category_id, tags, views, likes, dislikes, comment_count]\n",
       "Index: []"
      ]
     },
     "execution_count": 40,
     "metadata": {},
     "output_type": "execute_result"
    }
   ],
   "source": [
    "df[df['views'] > 1000000]"
   ]
  },
  {
   "cell_type": "code",
   "execution_count": 35,
   "metadata": {},
   "outputs": [],
   "source": [
    "df.drop(index = to_drop_index, inplace=True)"
   ]
  },
  {
   "cell_type": "code",
   "execution_count": 36,
   "metadata": {},
   "outputs": [
    {
     "data": {
      "text/plain": [
       "(25167, 10)"
      ]
     },
     "execution_count": 36,
     "metadata": {},
     "output_type": "execute_result"
    }
   ],
   "source": [
    "df.shape"
   ]
  },
  {
   "cell_type": "code",
   "execution_count": 37,
   "metadata": {},
   "outputs": [],
   "source": [
    "df.to_csv('Data/cleaned_df.csv', index=False)"
   ]
  },
  {
   "cell_type": "code",
   "execution_count": null,
   "metadata": {},
   "outputs": [],
   "source": []
  }
 ],
 "metadata": {
  "kernelspec": {
   "display_name": "Python 3",
   "language": "python",
   "name": "python3"
  },
  "language_info": {
   "codemirror_mode": {
    "name": "ipython",
    "version": 3
   },
   "file_extension": ".py",
   "mimetype": "text/x-python",
   "name": "python",
   "nbconvert_exporter": "python",
   "pygments_lexer": "ipython3",
   "version": "3.6.9"
  }
 },
 "nbformat": 4,
 "nbformat_minor": 4
}
